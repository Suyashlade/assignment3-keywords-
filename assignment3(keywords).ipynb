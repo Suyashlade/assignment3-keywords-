{
 "cells": [
  {
   "cell_type": "code",
   "execution_count": 1,
   "id": "9d9bec0a-ba67-4c68-97b9-8dd7be66e20e",
   "metadata": {},
   "outputs": [
    {
     "name": "stdout",
     "output_type": "stream",
     "text": [
      "x is greater than 5\n",
      "apple\n",
      "banana\n",
      "orange\n",
      "Hello, Alice\n",
      "Cannot divide by zero\n",
      "5.0\n"
     ]
    }
   ],
   "source": [
    "'''In Python, keywords are reserved words that have special meaning and are used to define the syntax and \n",
    "structure of the language. These keywords cannot be used as identifiers (variable names, function names, etc.) \n",
    "because they are predefined for specific purposes within the language.\n",
    "\n",
    "Here are some significances of Python keywords:\n",
    "\n",
    "Defining Control Structures: Keywords such as if, else, elif, while, for, break, continue, and pass are used to define\n",
    "control structures for conditional statements, loops, and branching.\n",
    "\n",
    "Defining Functions and Classes: Keywords such as def and class are used to define functions and classes respectively.\n",
    "\n",
    "Defining Import and Module Handling: Keywords such as import, from, and as are used to import modules and handle namespaces.\n",
    "\n",
    "Defining Exception Handling: Keywords such as try, except, finally, raise, and assert are used for exception handling.\n",
    "\n",
    "Defining Boolean Logic and Operators: Keywords such as True, False, and not are used to define boolean values and logic.'''\n",
    "\n",
    "\n",
    "x = 12\n",
    "if x > 5:\n",
    "    print(\"x is greater than 5\")\n",
    "\n",
    "fruits = [\"apple\", \"banana\", \"orange\"]\n",
    "for fruit in fruits:\n",
    "    print(fruit)\n",
    "\n",
    "def greet(name):\n",
    "    print(\"Hello,\", name)\n",
    "\n",
    "greet(\"Alice\")\n",
    "\n",
    "try:\n",
    "    result = 10 / 0\n",
    "except ZeroDivisionError:\n",
    "    print(\"Cannot divide by zero\")\n",
    "\n",
    "import math\n",
    "print(math.sqrt(25))\n"
   ]
  },
  {
   "cell_type": "code",
   "execution_count": 4,
   "id": "0bdd6931-e001-453c-b88e-ac260a6019f6",
   "metadata": {},
   "outputs": [],
   "source": [
    "'''In Python, identifiers are names given to various programming elements such as variables, functions, classes, modules\n",
    ", etc. Identifiers are used to uniquely identify these elements within a program. Here are the rules for defining identifiers in Python:\n",
    "\n",
    "Valid Characters: Identifiers can consist of letters (both lowercase and uppercase), digits, and underscore _. However, they cannot start with a digit.\n",
    "\n",
    "Case Sensitivity: Python is case-sensitive, meaning that identifiers such as myVar, MyVar, and MYVAR are all different.\n",
    "\n",
    "Reserved Keywords: Identifiers cannot be a Python keyword or reserved word. Attempting to use a keyword as an identifier will result in a syntax error.\n",
    "\n",
    "No Special Characters: Special characters such as !, @, #, $, %, ^, &, *, (, ), -, +, =, {, }, [, ], |, \\, :, ;, \", ', <, ,, ., >, /, ?, ~, \n",
    "and ` are not allowed in identifiers.\n",
    "\n",
    "Length: There is no limit on the length of an identifier in Python, but it's recommended to keep them short and meaningful.'''\n",
    "\n",
    "# Valid identifiers\n",
    "my_var = 10\n",
    "Name = \"Alice\"\n",
    "var123 = True\n",
    "_this_is_an_identifier = \"valid\"\n",
    "\n",
    "        \n"
   ]
  },
  {
   "cell_type": "code",
   "execution_count": 5,
   "id": "26730d03-bfc8-4870-a64c-4f952fc8fa18",
   "metadata": {},
   "outputs": [
    {
     "ename": "SyntaxError",
     "evalue": "invalid decimal literal (2847312979.py, line 2)",
     "output_type": "error",
     "traceback": [
      "\u001b[1;36m  Cell \u001b[1;32mIn[5], line 2\u001b[1;36m\u001b[0m\n\u001b[1;33m    123var = 5\u001b[0m\n\u001b[1;37m      ^\u001b[0m\n\u001b[1;31mSyntaxError\u001b[0m\u001b[1;31m:\u001b[0m invalid decimal literal\n"
     ]
    }
   ],
   "source": [
    "# Invalid identifiers\n",
    "123var = 5       \n",
    "my-var = \"test\"  \n",
    "if = 10  "
   ]
  },
  {
   "cell_type": "code",
   "execution_count": 9,
   "id": "5db1590e-9adf-4f62-8d6c-e5e58a1ae356",
   "metadata": {},
   "outputs": [
    {
     "data": {
      "text/plain": [
       "'In Python, comments are pieces of text within the code that are ignored by the Python interpreter. \\nThey are used to annotate the code with explanations, descriptions, or reminders for developers. \\nComments are essential for making the code more readable, understandable, and maintainable. \\nThey help other developers (including your future self) understand the purpose and functionality of different parts of the code.\\n\\nPython supports two types of comments:\\n\\nSingle-line Comments: Single-line comments begin with the # symbol and extend until the end of the line. \\nThey are used for short, single-line explanations.\\n\\nMulti-line Comments: While Python does not have a specific syntax for multi-line comments like some other programming languages,\\nyou can create multi-line comments by enclosing them in triple quotesAlthough these are technically strings,\\nthey are typically used as multi-line comments.'"
      ]
     },
     "execution_count": 9,
     "metadata": {},
     "output_type": "execute_result"
    }
   ],
   "source": [
    "'''In Python, comments are pieces of text within the code that are ignored by the Python interpreter. \n",
    "They are used to annotate the code with explanations, descriptions, or reminders for developers. \n",
    "Comments are essential for making the code more readable, understandable, and maintainable. \n",
    "They help other developers (including your future self) understand the purpose and functionality of different parts of the code.\n",
    "\n",
    "Python supports two types of comments:\n",
    "\n",
    "Single-line Comments: Single-line comments begin with the # symbol and extend until the end of the line. \n",
    "They are used for short, single-line explanations.\n",
    "\n",
    "Multi-line Comments: While Python does not have a specific syntax for multi-line comments like some other programming languages,\n",
    "you can create multi-line comments by enclosing them in triple quotesAlthough these are technically strings,\n",
    "they are typically used as multi-line comments.'''\n",
    " \n",
    "#\"(''' , \"\"\")\". "
   ]
  },
  {
   "cell_type": "code",
   "execution_count": 6,
   "id": "6b0b1417-40cf-4b20-8215-11a27c664050",
   "metadata": {},
   "outputs": [
    {
     "name": "stdout",
     "output_type": "stream",
     "text": [
      "Hello, World!\n"
     ]
    },
    {
     "data": {
      "text/plain": [
       "'This is a multi-line comment.\\nIt spans multiple lines and is enclosed within triple quotes.\\nMulti-line comments are often used for longer explanations.'"
      ]
     },
     "execution_count": 6,
     "metadata": {},
     "output_type": "execute_result"
    }
   ],
   "source": [
    "# This is a single-line comment.\n",
    "print(\"Hello, World!\")  # This comment is after a statement\n",
    "\n",
    "'''This is a multi-line comment.\n",
    "It spans multiple lines and is enclosed within triple quotes.\n",
    "Multi-line comments are often used for longer explanations.'''\n"
   ]
  },
  {
   "cell_type": "code",
   "execution_count": null,
   "id": "2a0dff35-3c47-427a-a8cb-4848645b9a8d",
   "metadata": {},
   "outputs": [],
   "source": [
    "'''Proper indentation is crucial in Python because it defines the structure and scope of the code. \n",
    "Unlike many other programming languages that use braces {} or keywords like begin and end to denote blocks of code,\n",
    "Python uses indentation to indicate where blocks of code begin and end.\n",
    "Here are some reasons why proper indentation is important in Python:\n",
    "Readability: Proper indentation makes the code more readable and understandable. It visually separates different blocks \n",
    "of code and helps developers quickly identify the structure of the program.\n",
    "Clarity: Indentation helps convey the logical structure of the code. It makes it clear which statements are part of which \n",
    "block (such as loops, conditional statements, function definitions, etc.).\n",
    "Scope: Indentation determines the scope of variables and statements. Code blocks at the same level of indentation are\n",
    "considered to be in the same scope. Variables defined within a block are accessible only within that block.\n",
    "Consistency: Consistent indentation style throughout the codebase improves maintainability and collaboration among developers.\n",
    "It helps prevent errors that can arise from mismatched indentation.\n",
    "Enforcement of Syntax: In Python, incorrect indentation will result in syntax errors or unintended behavior. The interpreter relies\n",
    "on indentation to understand the structure of the code, so proper indentation is essential for the code to run as expected.'''"
   ]
  },
  {
   "cell_type": "code",
   "execution_count": 10,
   "id": "250e49e2-8f6e-4d5a-a4c2-bda7331ce107",
   "metadata": {},
   "outputs": [
    {
     "ename": "IndentationError",
     "evalue": "expected an indented block after 'if' statement on line 24 (2464863100.py, line 25)",
     "output_type": "error",
     "traceback": [
      "\u001b[1;36m  Cell \u001b[1;32mIn[10], line 25\u001b[1;36m\u001b[0m\n\u001b[1;33m    print(\"This statement is inside the 'if' block\")  # IndentationError: expected an indented block\u001b[0m\n\u001b[1;37m    ^\u001b[0m\n\u001b[1;31mIndentationError\u001b[0m\u001b[1;31m:\u001b[0m expected an indented block after 'if' statement on line 24\n"
     ]
    }
   ],
   "source": [
    "'''If the indentation is incorrect in Python, it can lead to various issues, including syntax errors and unintended behavior.\n",
    "Python relies on indentation to define the structure and scope of the code, so incorrect indentation can cause the interpreter \n",
    "to misinterpret the code's logic. Here are some consequences of incorrect indentation in Python:\n",
    "\n",
    "IndentationError: The most common consequence of incorrect indentation is an IndentationError. This error occurs when there is a \n",
    "mismatch in the indentation levels within the code, such as inconsistent spacing or mixing tabs and spaces.\n",
    "\n",
    "Syntax Errors: Incorrect indentation can also lead to syntax errors or unexpected behavior in the code. Statements that are intended \n",
    "    to be part of the same block may be interpreted as belonging to different blocks, leading to logical errors.\n",
    "\n",
    "Unintended Scope: Incorrect indentation can change the scope of variables and statements within the code. Variables may be defined in \n",
    "    the wrong scope or may not be accessible where they are intended to be used.\n",
    "\n",
    "Misinterpretation of Control Flow: Indentation is used to denote control flow structures such as loops, conditional statements, and\n",
    "    function definitions. Incorrect indentation can cause the interpreter to misinterpret the control flow of the code, resulting\n",
    "    in unexpected outcomes.\n",
    "\n",
    "Difficulty in Debugging: Code with incorrect indentation can be challenging to debug, especially in larger codebases. Developers\n",
    "may spend considerable time identifying and fixing indentation-related issues.\n",
    "\n",
    "Here's an example demonstrating what happens when indentation is incorrect in Python:'''\n",
    "\n",
    "# Incorrect indentation\n",
    "if True:\n",
    "print(\"This statement is inside the 'if' block\")  # IndentationError: expected an indented block\n"
   ]
  },
  {
   "cell_type": "code",
   "execution_count": 11,
   "id": "43e4e693-34e8-41ef-a03b-a8f6928e7ba9",
   "metadata": {},
   "outputs": [],
   "source": [
    "'''An expression is a combination of values, variables, operators, and function calls that evaluates to a single value.\n",
    "Expressions can be as simple as a single variable or as complex as a multi-operation computation.\n",
    "Expressions always return a value.\n",
    "Examples of expressions include arithmetic expressions, function calls, list comprehensions, and more.\n",
    "Example of expressions:'''\n",
    "x = 5  # Assignment expression\n",
    "y = 3 + 2  # Arithmetic expression\n",
    "z = len(\"hello\")  # Function call expression\n",
    "result = (x + y) * z  # Compound expression"
   ]
  },
  {
   "cell_type": "code",
   "execution_count": 12,
   "id": "4aec3cdf-e05b-4a79-aeea-8e5792b1a23c",
   "metadata": {},
   "outputs": [
    {
     "name": "stdout",
     "output_type": "stream",
     "text": [
      "x is positive\n",
      "0\n",
      "1\n",
      "2\n",
      "3\n",
      "4\n"
     ]
    }
   ],
   "source": [
    "'''A statement is a complete instruction that performs an action in the Python program.\n",
    "Statements can include expressions, but they also include other elements like keywords, variable assignments, function calls, etc.\n",
    "Statements don't necessarily return a value.\n",
    "Examples of statements include assignment statements, conditional statements (if, elif, else), loop statements \n",
    "(for, while), function definitions, import statements, and more.'''\n",
    "\n",
    "# Assignment statement\n",
    "x = 5\n",
    "\n",
    "# Conditional statement\n",
    "if x > 0:\n",
    "    print(\"x is positive\")\n",
    "\n",
    "# Loop statement\n",
    "for i in range(5):\n",
    "    print(i)\n",
    "\n",
    "# Function definition statement\n",
    "def greet(name):\n",
    "    print(\"Hello,\", name)\n"
   ]
  },
  {
   "cell_type": "code",
   "execution_count": 2,
   "id": "1b8aee0c-f2cd-444c-a4ce-4185f387bc93",
   "metadata": {},
   "outputs": [
    {
     "data": {
      "text/plain": [
       "'hii how are you'"
      ]
     },
     "execution_count": 2,
     "metadata": {},
     "output_type": "execute_result"
    }
   ],
   "source": [
    "\"hii how are you\""
   ]
  },
  {
   "cell_type": "code",
   "execution_count": null,
   "id": "90f94cb5",
   "metadata": {},
   "outputs": [],
   "source": []
  }
 ],
 "metadata": {
  "kernelspec": {
   "display_name": "Python 3 (ipykernel)",
   "language": "python",
   "name": "python3"
  },
  "language_info": {
   "codemirror_mode": {
    "name": "ipython",
    "version": 3
   },
   "file_extension": ".py",
   "mimetype": "text/x-python",
   "name": "python",
   "nbconvert_exporter": "python",
   "pygments_lexer": "ipython3",
   "version": "3.11.4"
  }
 },
 "nbformat": 4,
 "nbformat_minor": 5
}
